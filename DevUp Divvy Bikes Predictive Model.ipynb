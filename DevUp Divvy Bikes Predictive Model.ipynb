{
 "cells": [
  {
   "cell_type": "markdown",
   "metadata": {},
   "source": [
    "# DevUp: Divvy Bikes - Part 2\n",
    "### By Mackenzie Bogiages"
   ]
  },
  {
   "cell_type": "code",
   "execution_count": 1,
   "metadata": {},
   "outputs": [],
   "source": [
    "# import packages\n",
    "import pandas as pd\n",
    "import numpy as np\n",
    "import seaborn as sns\n",
    "import matplotlib.pyplot as plt\n",
    "%matplotlib inline \n",
    "import statsmodels.api as sm\n",
    "from sklearn.linear_model import LinearRegression\n",
    "from sklearn.metrics import mean_squared_error\n",
    "from sklearn.metrics import r2_score\n",
    "from sklearn.linear_model import Ridge\n",
    "from sklearn.preprocessing import PolynomialFeatures\n",
    "from sklearn.model_selection import train_test_split\n",
    "from sklearn.linear_model import Ridge\n",
    "from sklearn.preprocessing import scale \n",
    "from sklearn.model_selection import train_test_split\n",
    "from sklearn.linear_model import Ridge, RidgeCV, Lasso, LassoCV\n",
    "from sklearn.metrics import mean_squared_error\n",
    "from sklearn import metrics"
   ]
  },
  {
   "cell_type": "code",
   "execution_count": 2,
   "metadata": {},
   "outputs": [
    {
     "data": {
      "text/html": [
       "<div>\n",
       "<style scoped>\n",
       "    .dataframe tbody tr th:only-of-type {\n",
       "        vertical-align: middle;\n",
       "    }\n",
       "\n",
       "    .dataframe tbody tr th {\n",
       "        vertical-align: top;\n",
       "    }\n",
       "\n",
       "    .dataframe thead th {\n",
       "        text-align: right;\n",
       "    }\n",
       "</style>\n",
       "<table border=\"1\" class=\"dataframe\">\n",
       "  <thead>\n",
       "    <tr style=\"text-align: right;\">\n",
       "      <th></th>\n",
       "      <th>trip_id</th>\n",
       "      <th>start_time</th>\n",
       "      <th>end_time</th>\n",
       "      <th>bikeid</th>\n",
       "      <th>tripduration</th>\n",
       "      <th>from_station_id</th>\n",
       "      <th>from_station_name</th>\n",
       "      <th>to_station_id</th>\n",
       "      <th>to_station_name</th>\n",
       "      <th>usertype</th>\n",
       "      <th>gender</th>\n",
       "      <th>birthyear</th>\n",
       "    </tr>\n",
       "  </thead>\n",
       "  <tbody>\n",
       "    <tr>\n",
       "      <td>0</td>\n",
       "      <td>13518905</td>\n",
       "      <td>3/31/2017 23:59:07</td>\n",
       "      <td>4/1/2017 00:13:24</td>\n",
       "      <td>5292</td>\n",
       "      <td>857</td>\n",
       "      <td>66</td>\n",
       "      <td>Clinton St &amp; Lake St</td>\n",
       "      <td>171</td>\n",
       "      <td>May St &amp; Cullerton St</td>\n",
       "      <td>Subscriber</td>\n",
       "      <td>Male</td>\n",
       "      <td>1989.0</td>\n",
       "    </tr>\n",
       "    <tr>\n",
       "      <td>1</td>\n",
       "      <td>13518904</td>\n",
       "      <td>3/31/2017 23:56:25</td>\n",
       "      <td>4/1/2017 00:00:21</td>\n",
       "      <td>4408</td>\n",
       "      <td>236</td>\n",
       "      <td>199</td>\n",
       "      <td>Wabash Ave &amp; Grand Ave</td>\n",
       "      <td>26</td>\n",
       "      <td>McClurg Ct &amp; Illinois St</td>\n",
       "      <td>Subscriber</td>\n",
       "      <td>Male</td>\n",
       "      <td>1990.0</td>\n",
       "    </tr>\n",
       "    <tr>\n",
       "      <td>2</td>\n",
       "      <td>13518903</td>\n",
       "      <td>3/31/2017 23:55:33</td>\n",
       "      <td>4/1/2017 00:01:21</td>\n",
       "      <td>696</td>\n",
       "      <td>348</td>\n",
       "      <td>520</td>\n",
       "      <td>Greenview Ave &amp; Jarvis Ave</td>\n",
       "      <td>432</td>\n",
       "      <td>Clark St &amp; Lunt Ave</td>\n",
       "      <td>Subscriber</td>\n",
       "      <td>Female</td>\n",
       "      <td>1979.0</td>\n",
       "    </tr>\n",
       "    <tr>\n",
       "      <td>3</td>\n",
       "      <td>13518902</td>\n",
       "      <td>3/31/2017 23:54:46</td>\n",
       "      <td>3/31/2017 23:59:34</td>\n",
       "      <td>4915</td>\n",
       "      <td>288</td>\n",
       "      <td>110</td>\n",
       "      <td>Dearborn St &amp; Erie St</td>\n",
       "      <td>142</td>\n",
       "      <td>McClurg Ct &amp; Erie St</td>\n",
       "      <td>Subscriber</td>\n",
       "      <td>Male</td>\n",
       "      <td>1985.0</td>\n",
       "    </tr>\n",
       "    <tr>\n",
       "      <td>4</td>\n",
       "      <td>13518901</td>\n",
       "      <td>3/31/2017 23:53:33</td>\n",
       "      <td>4/1/2017 00:00:28</td>\n",
       "      <td>4247</td>\n",
       "      <td>415</td>\n",
       "      <td>327</td>\n",
       "      <td>Sheffield Ave &amp; Webster Ave</td>\n",
       "      <td>331</td>\n",
       "      <td>Halsted St &amp; Blackhawk St (*)</td>\n",
       "      <td>Subscriber</td>\n",
       "      <td>Female</td>\n",
       "      <td>1989.0</td>\n",
       "    </tr>\n",
       "  </tbody>\n",
       "</table>\n",
       "</div>"
      ],
      "text/plain": [
       "    trip_id          start_time            end_time  bikeid  tripduration  \\\n",
       "0  13518905  3/31/2017 23:59:07   4/1/2017 00:13:24    5292           857   \n",
       "1  13518904  3/31/2017 23:56:25   4/1/2017 00:00:21    4408           236   \n",
       "2  13518903  3/31/2017 23:55:33   4/1/2017 00:01:21     696           348   \n",
       "3  13518902  3/31/2017 23:54:46  3/31/2017 23:59:34    4915           288   \n",
       "4  13518901  3/31/2017 23:53:33   4/1/2017 00:00:28    4247           415   \n",
       "\n",
       "   from_station_id            from_station_name  to_station_id  \\\n",
       "0               66         Clinton St & Lake St            171   \n",
       "1              199       Wabash Ave & Grand Ave             26   \n",
       "2              520   Greenview Ave & Jarvis Ave            432   \n",
       "3              110        Dearborn St & Erie St            142   \n",
       "4              327  Sheffield Ave & Webster Ave            331   \n",
       "\n",
       "                 to_station_name    usertype  gender  birthyear  \n",
       "0          May St & Cullerton St  Subscriber    Male     1989.0  \n",
       "1       McClurg Ct & Illinois St  Subscriber    Male     1990.0  \n",
       "2            Clark St & Lunt Ave  Subscriber  Female     1979.0  \n",
       "3           McClurg Ct & Erie St  Subscriber    Male     1985.0  \n",
       "4  Halsted St & Blackhawk St (*)  Subscriber  Female     1989.0  "
      ]
     },
     "execution_count": 2,
     "metadata": {},
     "output_type": "execute_result"
    }
   ],
   "source": [
    "# import data and concatenate ride dataframes\n",
    "df_q1_2017 = pd.read_csv(\"Divvy_Trips_2017_Q1.csv\")\n",
    "df_q2_2017 = pd.read_csv(\"Divvy_Trips_2017_Q2.csv\")\n",
    "df_q3_2017 = pd.read_csv(\"Divvy_Trips_2017_Q3.csv\")\n",
    "df_q4_2017 = pd.read_csv(\"Divvy_Trips_2017_Q4.csv\")\n",
    "df_station_q1q2 = pd.read_csv(\"Divvy_Stations_2017_Q1Q2.csv\")\n",
    "df_station_q3q4 = pd.read_csv(\"Divvy_Stations_2017_Q3Q4.csv\")\n",
    "\n",
    "df_2017 = pd.concat([df_q1_2017, df_q2_2017, df_q3_2017, df_q4_2017])\n",
    "df_2017.head()"
   ]
  },
  {
   "cell_type": "code",
   "execution_count": 3,
   "metadata": {},
   "outputs": [
    {
     "name": "stderr",
     "output_type": "stream",
     "text": [
      "/Users/Mackenzie.Bogiages@ibm.com/opt/anaconda3/lib/python3.7/site-packages/ipykernel_launcher.py:2: FutureWarning: Sorting because non-concatenation axis is not aligned. A future version\n",
      "of pandas will change to not sort by default.\n",
      "\n",
      "To accept the future behavior, pass 'sort=False'.\n",
      "\n",
      "To retain the current behavior and silence the warning, pass 'sort=True'.\n",
      "\n",
      "  \n",
      "/Users/Mackenzie.Bogiages@ibm.com/opt/anaconda3/lib/python3.7/site-packages/ipykernel_launcher.py:4: FutureWarning: Sorting because non-concatenation axis is not aligned. A future version\n",
      "of pandas will change to not sort by default.\n",
      "\n",
      "To accept the future behavior, pass 'sort=False'.\n",
      "\n",
      "To retain the current behavior and silence the warning, pass 'sort=True'.\n",
      "\n",
      "  after removing the cwd from sys.path.\n",
      "/Users/Mackenzie.Bogiages@ibm.com/opt/anaconda3/lib/python3.7/site-packages/ipykernel_launcher.py:5: FutureWarning: Sorting because non-concatenation axis is not aligned. A future version\n",
      "of pandas will change to not sort by default.\n",
      "\n",
      "To accept the future behavior, pass 'sort=False'.\n",
      "\n",
      "To retain the current behavior and silence the warning, pass 'sort=True'.\n",
      "\n",
      "  \"\"\"\n"
     ]
    },
    {
     "data": {
      "text/plain": [
       "(585, 3)"
      ]
     },
     "execution_count": 3,
     "metadata": {},
     "output_type": "execute_result"
    }
   ],
   "source": [
    "# concatenate to and from station names\n",
    "df_station = pd.concat([df_station_q1q2, df_station_q3q4])\n",
    "df_station = df_station.drop_duplicates()\n",
    "df_from_station = pd.concat([df_station_q1q2,df_station_q3q4])\n",
    "df_to_station = pd.concat([df_station_q1q2,df_station_q3q4])\n",
    "# rename columns\n",
    "df_from_station = df_from_station.rename(columns={\"id\": \"from_station_id\", \"latitude\": \"from_lat\", \"longitude\": \"from_long\"})\n",
    "df_to_station = df_to_station.rename(columns={\"id\": \"to_station_id\", \"latitude\": \"to_lat\", \"longitude\": \"to_long\"})\n",
    "# drop unused columns\n",
    "df_from_station = df_from_station.drop(['Unnamed: 7', 'city', 'dpcapacity', 'name', 'online_date'], axis=1)\n",
    "df_to_station = df_to_station.drop(['Unnamed: 7', 'city', 'dpcapacity', 'name', 'online_date'], axis=1)\n",
    "# drop duplicates\n",
    "df_from_station = df_from_station.drop_duplicates(subset='from_station_id', keep=\"last\")\n",
    "df_to_station = df_to_station.drop_duplicates(subset='to_station_id', keep=\"last\")\n",
    "df_to_station.shape"
   ]
  },
  {
   "cell_type": "code",
   "execution_count": 4,
   "metadata": {},
   "outputs": [
    {
     "data": {
      "text/plain": [
       "(3829003, 16)"
      ]
     },
     "execution_count": 4,
     "metadata": {},
     "output_type": "execute_result"
    }
   ],
   "source": [
    "# drop duplicates\n",
    "df_2017 = df_2017.drop_duplicates()\n",
    "# merge with from coordinates\n",
    "df_2017 = df_2017.merge(df_from_station)\n",
    "# merge with to coordinates\n",
    "df_2017 = df_2017.merge(df_to_station)\n",
    "df_2017.head()\n",
    "df_2017.shape"
   ]
  },
  {
   "cell_type": "code",
   "execution_count": 5,
   "metadata": {},
   "outputs": [
    {
     "data": {
      "text/plain": [
       "(3829003, 16)"
      ]
     },
     "execution_count": 5,
     "metadata": {},
     "output_type": "execute_result"
    }
   ],
   "source": [
    "df_2017.shape"
   ]
  },
  {
   "cell_type": "code",
   "execution_count": 6,
   "metadata": {},
   "outputs": [],
   "source": [
    "# calculate distance from Haversine formula\n",
    "def haversine_np(from_long, from_lat, to_long, to_lat):\n",
    "    from_long, from_lat, to_long, to_lat = map(np.radians, [from_long, from_lat, to_long, to_lat])\n",
    "    dlon = to_long - from_long\n",
    "    dlat = to_lat - from_lat\n",
    "    a = np.sin(dlat / 2.0)**2 + np.cos(from_lat) * np.cos(to_lat) * np.sin(dlon / 2.0)**2\n",
    "    c = 2 * np.arcsin(np.sqrt(a))\n",
    "    r = 3956 * c\n",
    "    return r"
   ]
  },
  {
   "cell_type": "code",
   "execution_count": 7,
   "metadata": {},
   "outputs": [
    {
     "data": {
      "text/html": [
       "<div>\n",
       "<style scoped>\n",
       "    .dataframe tbody tr th:only-of-type {\n",
       "        vertical-align: middle;\n",
       "    }\n",
       "\n",
       "    .dataframe tbody tr th {\n",
       "        vertical-align: top;\n",
       "    }\n",
       "\n",
       "    .dataframe thead th {\n",
       "        text-align: right;\n",
       "    }\n",
       "</style>\n",
       "<table border=\"1\" class=\"dataframe\">\n",
       "  <thead>\n",
       "    <tr style=\"text-align: right;\">\n",
       "      <th></th>\n",
       "      <th>trip_id</th>\n",
       "      <th>start_time</th>\n",
       "      <th>end_time</th>\n",
       "      <th>bikeid</th>\n",
       "      <th>tripduration</th>\n",
       "      <th>from_station_id</th>\n",
       "      <th>from_station_name</th>\n",
       "      <th>to_station_id</th>\n",
       "      <th>to_station_name</th>\n",
       "      <th>usertype</th>\n",
       "      <th>gender</th>\n",
       "      <th>birthyear</th>\n",
       "      <th>from_lat</th>\n",
       "      <th>from_long</th>\n",
       "      <th>to_lat</th>\n",
       "      <th>to_long</th>\n",
       "      <th>distance</th>\n",
       "    </tr>\n",
       "  </thead>\n",
       "  <tbody>\n",
       "    <tr>\n",
       "      <td>0</td>\n",
       "      <td>13518905</td>\n",
       "      <td>3/31/2017 23:59:07</td>\n",
       "      <td>4/1/2017 00:13:24</td>\n",
       "      <td>5292</td>\n",
       "      <td>857</td>\n",
       "      <td>66</td>\n",
       "      <td>Clinton St &amp; Lake St</td>\n",
       "      <td>171</td>\n",
       "      <td>May St &amp; Cullerton St</td>\n",
       "      <td>Subscriber</td>\n",
       "      <td>Male</td>\n",
       "      <td>1989.0</td>\n",
       "      <td>41.885637</td>\n",
       "      <td>-87.641823</td>\n",
       "      <td>41.855136</td>\n",
       "      <td>-87.654127</td>\n",
       "      <td>2.198912</td>\n",
       "    </tr>\n",
       "    <tr>\n",
       "      <td>1</td>\n",
       "      <td>13144289</td>\n",
       "      <td>2/4/2017 00:26:16</td>\n",
       "      <td>2/4/2017 00:42:14</td>\n",
       "      <td>1716</td>\n",
       "      <td>958</td>\n",
       "      <td>66</td>\n",
       "      <td>Clinton St &amp; Lake St</td>\n",
       "      <td>171</td>\n",
       "      <td>May St &amp; Cullerton St</td>\n",
       "      <td>Subscriber</td>\n",
       "      <td>Male</td>\n",
       "      <td>1989.0</td>\n",
       "      <td>41.885637</td>\n",
       "      <td>-87.641823</td>\n",
       "      <td>41.855136</td>\n",
       "      <td>-87.654127</td>\n",
       "      <td>2.198912</td>\n",
       "    </tr>\n",
       "    <tr>\n",
       "      <td>2</td>\n",
       "      <td>13721758</td>\n",
       "      <td>4/20/2017 02:30:19</td>\n",
       "      <td>4/20/2017 02:45:13</td>\n",
       "      <td>1135</td>\n",
       "      <td>894</td>\n",
       "      <td>66</td>\n",
       "      <td>Clinton St &amp; Lake St</td>\n",
       "      <td>171</td>\n",
       "      <td>May St &amp; Cullerton St</td>\n",
       "      <td>Subscriber</td>\n",
       "      <td>Male</td>\n",
       "      <td>1989.0</td>\n",
       "      <td>41.885637</td>\n",
       "      <td>-87.641823</td>\n",
       "      <td>41.855136</td>\n",
       "      <td>-87.654127</td>\n",
       "      <td>2.198912</td>\n",
       "    </tr>\n",
       "    <tr>\n",
       "      <td>3</td>\n",
       "      <td>13695538</td>\n",
       "      <td>4/18/2017 01:32:11</td>\n",
       "      <td>4/18/2017 01:46:27</td>\n",
       "      <td>1701</td>\n",
       "      <td>856</td>\n",
       "      <td>66</td>\n",
       "      <td>Clinton St &amp; Lake St</td>\n",
       "      <td>171</td>\n",
       "      <td>May St &amp; Cullerton St</td>\n",
       "      <td>Subscriber</td>\n",
       "      <td>Male</td>\n",
       "      <td>1989.0</td>\n",
       "      <td>41.885637</td>\n",
       "      <td>-87.641823</td>\n",
       "      <td>41.855136</td>\n",
       "      <td>-87.654127</td>\n",
       "      <td>2.198912</td>\n",
       "    </tr>\n",
       "    <tr>\n",
       "      <td>4</td>\n",
       "      <td>15718061</td>\n",
       "      <td>8/10/2017 16:40:12</td>\n",
       "      <td>8/10/2017 17:04:31</td>\n",
       "      <td>5931</td>\n",
       "      <td>1459</td>\n",
       "      <td>199</td>\n",
       "      <td>Wabash Ave &amp; Grand Ave</td>\n",
       "      <td>171</td>\n",
       "      <td>May St &amp; Cullerton St</td>\n",
       "      <td>Subscriber</td>\n",
       "      <td>Male</td>\n",
       "      <td>1986.0</td>\n",
       "      <td>41.891466</td>\n",
       "      <td>-87.626761</td>\n",
       "      <td>41.855136</td>\n",
       "      <td>-87.654127</td>\n",
       "      <td>2.876051</td>\n",
       "    </tr>\n",
       "  </tbody>\n",
       "</table>\n",
       "</div>"
      ],
      "text/plain": [
       "    trip_id          start_time            end_time  bikeid  tripduration  \\\n",
       "0  13518905  3/31/2017 23:59:07   4/1/2017 00:13:24    5292           857   \n",
       "1  13144289   2/4/2017 00:26:16   2/4/2017 00:42:14    1716           958   \n",
       "2  13721758  4/20/2017 02:30:19  4/20/2017 02:45:13    1135           894   \n",
       "3  13695538  4/18/2017 01:32:11  4/18/2017 01:46:27    1701           856   \n",
       "4  15718061  8/10/2017 16:40:12  8/10/2017 17:04:31    5931          1459   \n",
       "\n",
       "   from_station_id       from_station_name  to_station_id  \\\n",
       "0               66    Clinton St & Lake St            171   \n",
       "1               66    Clinton St & Lake St            171   \n",
       "2               66    Clinton St & Lake St            171   \n",
       "3               66    Clinton St & Lake St            171   \n",
       "4              199  Wabash Ave & Grand Ave            171   \n",
       "\n",
       "         to_station_name    usertype gender  birthyear   from_lat  from_long  \\\n",
       "0  May St & Cullerton St  Subscriber   Male     1989.0  41.885637 -87.641823   \n",
       "1  May St & Cullerton St  Subscriber   Male     1989.0  41.885637 -87.641823   \n",
       "2  May St & Cullerton St  Subscriber   Male     1989.0  41.885637 -87.641823   \n",
       "3  May St & Cullerton St  Subscriber   Male     1989.0  41.885637 -87.641823   \n",
       "4  May St & Cullerton St  Subscriber   Male     1986.0  41.891466 -87.626761   \n",
       "\n",
       "      to_lat    to_long  distance  \n",
       "0  41.855136 -87.654127  2.198912  \n",
       "1  41.855136 -87.654127  2.198912  \n",
       "2  41.855136 -87.654127  2.198912  \n",
       "3  41.855136 -87.654127  2.198912  \n",
       "4  41.855136 -87.654127  2.876051  "
      ]
     },
     "execution_count": 7,
     "metadata": {},
     "output_type": "execute_result"
    }
   ],
   "source": [
    "# create new column for distance (miles)\n",
    "df_2017['distance'] = haversine_np(df_2017['from_long'], df_2017['from_lat'], df_2017['to_long'], df_2017['to_lat'])\n",
    "df_2017.head()"
   ]
  },
  {
   "cell_type": "code",
   "execution_count": 8,
   "metadata": {},
   "outputs": [],
   "source": [
    "# calculated speed\n",
    "def avg_speed_np(distance, tripduration):\n",
    "    dur_hours = tripduration / (60**2)\n",
    "    s = distance / dur_hours\n",
    "    return s"
   ]
  },
  {
   "cell_type": "code",
   "execution_count": 9,
   "metadata": {},
   "outputs": [
    {
     "data": {
      "text/html": [
       "<div>\n",
       "<style scoped>\n",
       "    .dataframe tbody tr th:only-of-type {\n",
       "        vertical-align: middle;\n",
       "    }\n",
       "\n",
       "    .dataframe tbody tr th {\n",
       "        vertical-align: top;\n",
       "    }\n",
       "\n",
       "    .dataframe thead th {\n",
       "        text-align: right;\n",
       "    }\n",
       "</style>\n",
       "<table border=\"1\" class=\"dataframe\">\n",
       "  <thead>\n",
       "    <tr style=\"text-align: right;\">\n",
       "      <th></th>\n",
       "      <th>trip_id</th>\n",
       "      <th>start_time</th>\n",
       "      <th>end_time</th>\n",
       "      <th>bikeid</th>\n",
       "      <th>tripduration</th>\n",
       "      <th>from_station_id</th>\n",
       "      <th>from_station_name</th>\n",
       "      <th>to_station_id</th>\n",
       "      <th>to_station_name</th>\n",
       "      <th>usertype</th>\n",
       "      <th>gender</th>\n",
       "      <th>birthyear</th>\n",
       "      <th>from_lat</th>\n",
       "      <th>from_long</th>\n",
       "      <th>to_lat</th>\n",
       "      <th>to_long</th>\n",
       "      <th>distance</th>\n",
       "      <th>speed</th>\n",
       "    </tr>\n",
       "  </thead>\n",
       "  <tbody>\n",
       "    <tr>\n",
       "      <td>0</td>\n",
       "      <td>13518905</td>\n",
       "      <td>3/31/2017 23:59:07</td>\n",
       "      <td>4/1/2017 00:13:24</td>\n",
       "      <td>5292</td>\n",
       "      <td>857</td>\n",
       "      <td>66</td>\n",
       "      <td>Clinton St &amp; Lake St</td>\n",
       "      <td>171</td>\n",
       "      <td>May St &amp; Cullerton St</td>\n",
       "      <td>Subscriber</td>\n",
       "      <td>Male</td>\n",
       "      <td>1989.0</td>\n",
       "      <td>41.885637</td>\n",
       "      <td>-87.641823</td>\n",
       "      <td>41.855136</td>\n",
       "      <td>-87.654127</td>\n",
       "      <td>2.198912</td>\n",
       "      <td>9.236970</td>\n",
       "    </tr>\n",
       "    <tr>\n",
       "      <td>1</td>\n",
       "      <td>13144289</td>\n",
       "      <td>2/4/2017 00:26:16</td>\n",
       "      <td>2/4/2017 00:42:14</td>\n",
       "      <td>1716</td>\n",
       "      <td>958</td>\n",
       "      <td>66</td>\n",
       "      <td>Clinton St &amp; Lake St</td>\n",
       "      <td>171</td>\n",
       "      <td>May St &amp; Cullerton St</td>\n",
       "      <td>Subscriber</td>\n",
       "      <td>Male</td>\n",
       "      <td>1989.0</td>\n",
       "      <td>41.885637</td>\n",
       "      <td>-87.641823</td>\n",
       "      <td>41.855136</td>\n",
       "      <td>-87.654127</td>\n",
       "      <td>2.198912</td>\n",
       "      <td>8.263135</td>\n",
       "    </tr>\n",
       "    <tr>\n",
       "      <td>2</td>\n",
       "      <td>13721758</td>\n",
       "      <td>4/20/2017 02:30:19</td>\n",
       "      <td>4/20/2017 02:45:13</td>\n",
       "      <td>1135</td>\n",
       "      <td>894</td>\n",
       "      <td>66</td>\n",
       "      <td>Clinton St &amp; Lake St</td>\n",
       "      <td>171</td>\n",
       "      <td>May St &amp; Cullerton St</td>\n",
       "      <td>Subscriber</td>\n",
       "      <td>Male</td>\n",
       "      <td>1989.0</td>\n",
       "      <td>41.885637</td>\n",
       "      <td>-87.641823</td>\n",
       "      <td>41.855136</td>\n",
       "      <td>-87.654127</td>\n",
       "      <td>2.198912</td>\n",
       "      <td>8.854679</td>\n",
       "    </tr>\n",
       "    <tr>\n",
       "      <td>3</td>\n",
       "      <td>13695538</td>\n",
       "      <td>4/18/2017 01:32:11</td>\n",
       "      <td>4/18/2017 01:46:27</td>\n",
       "      <td>1701</td>\n",
       "      <td>856</td>\n",
       "      <td>66</td>\n",
       "      <td>Clinton St &amp; Lake St</td>\n",
       "      <td>171</td>\n",
       "      <td>May St &amp; Cullerton St</td>\n",
       "      <td>Subscriber</td>\n",
       "      <td>Male</td>\n",
       "      <td>1989.0</td>\n",
       "      <td>41.885637</td>\n",
       "      <td>-87.641823</td>\n",
       "      <td>41.855136</td>\n",
       "      <td>-87.654127</td>\n",
       "      <td>2.198912</td>\n",
       "      <td>9.247761</td>\n",
       "    </tr>\n",
       "    <tr>\n",
       "      <td>4</td>\n",
       "      <td>15718061</td>\n",
       "      <td>8/10/2017 16:40:12</td>\n",
       "      <td>8/10/2017 17:04:31</td>\n",
       "      <td>5931</td>\n",
       "      <td>1459</td>\n",
       "      <td>199</td>\n",
       "      <td>Wabash Ave &amp; Grand Ave</td>\n",
       "      <td>171</td>\n",
       "      <td>May St &amp; Cullerton St</td>\n",
       "      <td>Subscriber</td>\n",
       "      <td>Male</td>\n",
       "      <td>1986.0</td>\n",
       "      <td>41.891466</td>\n",
       "      <td>-87.626761</td>\n",
       "      <td>41.855136</td>\n",
       "      <td>-87.654127</td>\n",
       "      <td>2.876051</td>\n",
       "      <td>7.096492</td>\n",
       "    </tr>\n",
       "  </tbody>\n",
       "</table>\n",
       "</div>"
      ],
      "text/plain": [
       "    trip_id          start_time            end_time  bikeid  tripduration  \\\n",
       "0  13518905  3/31/2017 23:59:07   4/1/2017 00:13:24    5292           857   \n",
       "1  13144289   2/4/2017 00:26:16   2/4/2017 00:42:14    1716           958   \n",
       "2  13721758  4/20/2017 02:30:19  4/20/2017 02:45:13    1135           894   \n",
       "3  13695538  4/18/2017 01:32:11  4/18/2017 01:46:27    1701           856   \n",
       "4  15718061  8/10/2017 16:40:12  8/10/2017 17:04:31    5931          1459   \n",
       "\n",
       "   from_station_id       from_station_name  to_station_id  \\\n",
       "0               66    Clinton St & Lake St            171   \n",
       "1               66    Clinton St & Lake St            171   \n",
       "2               66    Clinton St & Lake St            171   \n",
       "3               66    Clinton St & Lake St            171   \n",
       "4              199  Wabash Ave & Grand Ave            171   \n",
       "\n",
       "         to_station_name    usertype gender  birthyear   from_lat  from_long  \\\n",
       "0  May St & Cullerton St  Subscriber   Male     1989.0  41.885637 -87.641823   \n",
       "1  May St & Cullerton St  Subscriber   Male     1989.0  41.885637 -87.641823   \n",
       "2  May St & Cullerton St  Subscriber   Male     1989.0  41.885637 -87.641823   \n",
       "3  May St & Cullerton St  Subscriber   Male     1989.0  41.885637 -87.641823   \n",
       "4  May St & Cullerton St  Subscriber   Male     1986.0  41.891466 -87.626761   \n",
       "\n",
       "      to_lat    to_long  distance     speed  \n",
       "0  41.855136 -87.654127  2.198912  9.236970  \n",
       "1  41.855136 -87.654127  2.198912  8.263135  \n",
       "2  41.855136 -87.654127  2.198912  8.854679  \n",
       "3  41.855136 -87.654127  2.198912  9.247761  \n",
       "4  41.855136 -87.654127  2.876051  7.096492  "
      ]
     },
     "execution_count": 9,
     "metadata": {},
     "output_type": "execute_result"
    }
   ],
   "source": [
    "# create new column for speed (MPH)\n",
    "df_2017['speed'] = avg_speed_np(df_2017['distance'],df_2017['tripduration'])\n",
    "df_2017.head()"
   ]
  },
  {
   "cell_type": "code",
   "execution_count": 10,
   "metadata": {},
   "outputs": [],
   "source": [
    "# drop rides less than 2 minute and greater than 6 hours\n",
    "df_2017 = df_2017[df_2017.tripduration > 120]\n",
    "df_2017 = df_2017[df_2017.tripduration < 21600]"
   ]
  },
  {
   "cell_type": "code",
   "execution_count": 11,
   "metadata": {},
   "outputs": [],
   "source": [
    "# drop ages that might be falsified (under 10, over 75)\n",
    "df_2017 = df_2017[df_2017.birthyear > 1942]\n",
    "df_2017 = df_2017[df_2017.birthyear < 2007]"
   ]
  },
  {
   "cell_type": "code",
   "execution_count": 12,
   "metadata": {},
   "outputs": [],
   "source": [
    "# drop speeds that are over 40 MPH, there are no Olympians here\n",
    "df_2017 = df_2017[df_2017.speed < 40]"
   ]
  },
  {
   "cell_type": "code",
   "execution_count": 13,
   "metadata": {},
   "outputs": [
    {
     "data": {
      "text/html": [
       "<div>\n",
       "<style scoped>\n",
       "    .dataframe tbody tr th:only-of-type {\n",
       "        vertical-align: middle;\n",
       "    }\n",
       "\n",
       "    .dataframe tbody tr th {\n",
       "        vertical-align: top;\n",
       "    }\n",
       "\n",
       "    .dataframe thead th {\n",
       "        text-align: right;\n",
       "    }\n",
       "</style>\n",
       "<table border=\"1\" class=\"dataframe\">\n",
       "  <thead>\n",
       "    <tr style=\"text-align: right;\">\n",
       "      <th></th>\n",
       "      <th>trip_id</th>\n",
       "      <th>start_time</th>\n",
       "      <th>end_time</th>\n",
       "      <th>bikeid</th>\n",
       "      <th>tripduration</th>\n",
       "      <th>from_station_id</th>\n",
       "      <th>from_station_name</th>\n",
       "      <th>to_station_id</th>\n",
       "      <th>to_station_name</th>\n",
       "      <th>usertype</th>\n",
       "      <th>...</th>\n",
       "      <th>from_long</th>\n",
       "      <th>to_lat</th>\n",
       "      <th>to_long</th>\n",
       "      <th>distance</th>\n",
       "      <th>speed</th>\n",
       "      <th>Female</th>\n",
       "      <th>Male</th>\n",
       "      <th>Customer</th>\n",
       "      <th>Dependent</th>\n",
       "      <th>Subscriber</th>\n",
       "    </tr>\n",
       "  </thead>\n",
       "  <tbody>\n",
       "    <tr>\n",
       "      <td>0</td>\n",
       "      <td>13518905</td>\n",
       "      <td>3/31/2017 23:59:07</td>\n",
       "      <td>4/1/2017 00:13:24</td>\n",
       "      <td>5292</td>\n",
       "      <td>857</td>\n",
       "      <td>66</td>\n",
       "      <td>Clinton St &amp; Lake St</td>\n",
       "      <td>171</td>\n",
       "      <td>May St &amp; Cullerton St</td>\n",
       "      <td>Subscriber</td>\n",
       "      <td>...</td>\n",
       "      <td>-87.641823</td>\n",
       "      <td>41.855136</td>\n",
       "      <td>-87.654127</td>\n",
       "      <td>2.198912</td>\n",
       "      <td>9.236970</td>\n",
       "      <td>0</td>\n",
       "      <td>1</td>\n",
       "      <td>0</td>\n",
       "      <td>0</td>\n",
       "      <td>1</td>\n",
       "    </tr>\n",
       "    <tr>\n",
       "      <td>1</td>\n",
       "      <td>13144289</td>\n",
       "      <td>2/4/2017 00:26:16</td>\n",
       "      <td>2/4/2017 00:42:14</td>\n",
       "      <td>1716</td>\n",
       "      <td>958</td>\n",
       "      <td>66</td>\n",
       "      <td>Clinton St &amp; Lake St</td>\n",
       "      <td>171</td>\n",
       "      <td>May St &amp; Cullerton St</td>\n",
       "      <td>Subscriber</td>\n",
       "      <td>...</td>\n",
       "      <td>-87.641823</td>\n",
       "      <td>41.855136</td>\n",
       "      <td>-87.654127</td>\n",
       "      <td>2.198912</td>\n",
       "      <td>8.263135</td>\n",
       "      <td>0</td>\n",
       "      <td>1</td>\n",
       "      <td>0</td>\n",
       "      <td>0</td>\n",
       "      <td>1</td>\n",
       "    </tr>\n",
       "    <tr>\n",
       "      <td>2</td>\n",
       "      <td>13721758</td>\n",
       "      <td>4/20/2017 02:30:19</td>\n",
       "      <td>4/20/2017 02:45:13</td>\n",
       "      <td>1135</td>\n",
       "      <td>894</td>\n",
       "      <td>66</td>\n",
       "      <td>Clinton St &amp; Lake St</td>\n",
       "      <td>171</td>\n",
       "      <td>May St &amp; Cullerton St</td>\n",
       "      <td>Subscriber</td>\n",
       "      <td>...</td>\n",
       "      <td>-87.641823</td>\n",
       "      <td>41.855136</td>\n",
       "      <td>-87.654127</td>\n",
       "      <td>2.198912</td>\n",
       "      <td>8.854679</td>\n",
       "      <td>0</td>\n",
       "      <td>1</td>\n",
       "      <td>0</td>\n",
       "      <td>0</td>\n",
       "      <td>1</td>\n",
       "    </tr>\n",
       "    <tr>\n",
       "      <td>3</td>\n",
       "      <td>13695538</td>\n",
       "      <td>4/18/2017 01:32:11</td>\n",
       "      <td>4/18/2017 01:46:27</td>\n",
       "      <td>1701</td>\n",
       "      <td>856</td>\n",
       "      <td>66</td>\n",
       "      <td>Clinton St &amp; Lake St</td>\n",
       "      <td>171</td>\n",
       "      <td>May St &amp; Cullerton St</td>\n",
       "      <td>Subscriber</td>\n",
       "      <td>...</td>\n",
       "      <td>-87.641823</td>\n",
       "      <td>41.855136</td>\n",
       "      <td>-87.654127</td>\n",
       "      <td>2.198912</td>\n",
       "      <td>9.247761</td>\n",
       "      <td>0</td>\n",
       "      <td>1</td>\n",
       "      <td>0</td>\n",
       "      <td>0</td>\n",
       "      <td>1</td>\n",
       "    </tr>\n",
       "    <tr>\n",
       "      <td>4</td>\n",
       "      <td>15718061</td>\n",
       "      <td>8/10/2017 16:40:12</td>\n",
       "      <td>8/10/2017 17:04:31</td>\n",
       "      <td>5931</td>\n",
       "      <td>1459</td>\n",
       "      <td>199</td>\n",
       "      <td>Wabash Ave &amp; Grand Ave</td>\n",
       "      <td>171</td>\n",
       "      <td>May St &amp; Cullerton St</td>\n",
       "      <td>Subscriber</td>\n",
       "      <td>...</td>\n",
       "      <td>-87.626761</td>\n",
       "      <td>41.855136</td>\n",
       "      <td>-87.654127</td>\n",
       "      <td>2.876051</td>\n",
       "      <td>7.096492</td>\n",
       "      <td>0</td>\n",
       "      <td>1</td>\n",
       "      <td>0</td>\n",
       "      <td>0</td>\n",
       "      <td>1</td>\n",
       "    </tr>\n",
       "  </tbody>\n",
       "</table>\n",
       "<p>5 rows × 23 columns</p>\n",
       "</div>"
      ],
      "text/plain": [
       "    trip_id          start_time            end_time  bikeid  tripduration  \\\n",
       "0  13518905  3/31/2017 23:59:07   4/1/2017 00:13:24    5292           857   \n",
       "1  13144289   2/4/2017 00:26:16   2/4/2017 00:42:14    1716           958   \n",
       "2  13721758  4/20/2017 02:30:19  4/20/2017 02:45:13    1135           894   \n",
       "3  13695538  4/18/2017 01:32:11  4/18/2017 01:46:27    1701           856   \n",
       "4  15718061  8/10/2017 16:40:12  8/10/2017 17:04:31    5931          1459   \n",
       "\n",
       "   from_station_id       from_station_name  to_station_id  \\\n",
       "0               66    Clinton St & Lake St            171   \n",
       "1               66    Clinton St & Lake St            171   \n",
       "2               66    Clinton St & Lake St            171   \n",
       "3               66    Clinton St & Lake St            171   \n",
       "4              199  Wabash Ave & Grand Ave            171   \n",
       "\n",
       "         to_station_name    usertype  ...  from_long     to_lat    to_long  \\\n",
       "0  May St & Cullerton St  Subscriber  ... -87.641823  41.855136 -87.654127   \n",
       "1  May St & Cullerton St  Subscriber  ... -87.641823  41.855136 -87.654127   \n",
       "2  May St & Cullerton St  Subscriber  ... -87.641823  41.855136 -87.654127   \n",
       "3  May St & Cullerton St  Subscriber  ... -87.641823  41.855136 -87.654127   \n",
       "4  May St & Cullerton St  Subscriber  ... -87.626761  41.855136 -87.654127   \n",
       "\n",
       "   distance     speed  Female  Male  Customer  Dependent  Subscriber  \n",
       "0  2.198912  9.236970       0     1         0          0           1  \n",
       "1  2.198912  8.263135       0     1         0          0           1  \n",
       "2  2.198912  8.854679       0     1         0          0           1  \n",
       "3  2.198912  9.247761       0     1         0          0           1  \n",
       "4  2.876051  7.096492       0     1         0          0           1  \n",
       "\n",
       "[5 rows x 23 columns]"
      ]
     },
     "execution_count": 13,
     "metadata": {},
     "output_type": "execute_result"
    }
   ],
   "source": [
    "# make categorical variables dummy variables\n",
    "dummy1 = pd.get_dummies(df_2017['gender'])\n",
    "dummy2 = pd.get_dummies(df_2017['usertype'])\n",
    "df_2017 = pd.concat([df_2017, dummy1], axis = 1)\n",
    "df_2017 = pd.concat([df_2017, dummy2], axis = 1)\n",
    "df_2017.head()"
   ]
  },
  {
   "cell_type": "code",
   "execution_count": 14,
   "metadata": {},
   "outputs": [
    {
     "data": {
      "text/plain": [
       "trip_id                int64\n",
       "start_time            object\n",
       "end_time              object\n",
       "bikeid                 int64\n",
       "tripduration           int64\n",
       "from_station_id        int64\n",
       "from_station_name     object\n",
       "to_station_id          int64\n",
       "to_station_name       object\n",
       "usertype              object\n",
       "gender                object\n",
       "birthyear            float64\n",
       "from_lat             float64\n",
       "from_long            float64\n",
       "to_lat               float64\n",
       "to_long              float64\n",
       "distance             float64\n",
       "speed                float64\n",
       "Female               float64\n",
       "Male                 float64\n",
       "Customer             float64\n",
       "Dependent            float64\n",
       "Subscriber           float64\n",
       "dtype: object"
      ]
     },
     "execution_count": 14,
     "metadata": {},
     "output_type": "execute_result"
    }
   ],
   "source": [
    "# make dummy variables boolean\n",
    "df_2017['Male'] = df_2017['Male'].astype(float)\n",
    "df_2017['Female'] = df_2017['Female'].astype(float)\n",
    "df_2017['Customer'] = df_2017['Customer'].astype(float)\n",
    "df_2017['Dependent'] = df_2017['Dependent'].astype(float)\n",
    "df_2017['Subscriber'] = df_2017['Subscriber'].astype(float)\n",
    "df_2017.dtypes"
   ]
  },
  {
   "cell_type": "markdown",
   "metadata": {},
   "source": [
    "## Simple Linear Regression"
   ]
  },
  {
   "cell_type": "code",
   "execution_count": 15,
   "metadata": {},
   "outputs": [
    {
     "data": {
      "image/png": "[encoded data removed]",
      "text/plain": [
       "<Figure size 432x288 with 1 Axes>"
      ]
     },
     "metadata": {
      "needs_background": "light"
     },
     "output_type": "display_data"
    }
   ],
   "source": [
    "df_2017.plot(x = 'distance', y = 'tripduration', style = 'o')  \n",
    "plt.title('distance vs trip duration')  \n",
    "plt.xlabel('distance')  \n",
    "plt.ylabel('time')  \n",
    "plt.show()"
   ]
  },
  {
   "cell_type": "code",
   "execution_count": 16,
   "metadata": {},
   "outputs": [
    {
     "data": {
      "text/plain": [
       "1.200548153640619"
      ]
     },
     "execution_count": 16,
     "metadata": {},
     "output_type": "execute_result"
    }
   ],
   "source": [
    "df_2017['distance'].mean()"
   ]
  },
  {
   "cell_type": "code",
   "execution_count": 17,
   "metadata": {},
   "outputs": [
    {
     "data": {
      "text/plain": [
       "<matplotlib.axes._subplots.AxesSubplot at 0x1c21c983d0>"
      ]
     },
     "execution_count": 17,
     "metadata": {},
     "output_type": "execute_result"
    },
    {
     "data": {
      "image/png": "[encoded data removed]",
      "text/plain": [
       "<Figure size 1080x720 with 1 Axes>"
      ]
     },
     "metadata": {
      "needs_background": "light"
     },
     "output_type": "display_data"
    }
   ],
   "source": [
    "plt.figure(figsize = (15,10))\n",
    "plt.tight_layout()\n",
    "sns.distplot(df_2017['tripduration'])"
   ]
  },
  {
   "cell_type": "code",
   "execution_count": 18,
   "metadata": {},
   "outputs": [],
   "source": [
    "X = df_2017['distance'].values.reshape(-1, 1)\n",
    "y = df_2017['tripduration'].values.reshape(-1, 1)"
   ]
  },
  {
   "cell_type": "code",
   "execution_count": 19,
   "metadata": {},
   "outputs": [],
   "source": [
    "X_train, X_test, y_train, y_test = train_test_split(X, y, test_size = 0.2, random_state = 0)"
   ]
  },
  {
   "cell_type": "code",
   "execution_count": 20,
   "metadata": {},
   "outputs": [
    {
     "data": {
      "text/plain": [
       "LinearRegression(copy_X=True, fit_intercept=True, n_jobs=None, normalize=False)"
      ]
     },
     "execution_count": 20,
     "metadata": {},
     "output_type": "execute_result"
    }
   ],
   "source": [
    "regressor = LinearRegression()  \n",
    "regressor.fit(X_train, y_train) "
   ]
  },
  {
   "cell_type": "code",
   "execution_count": 21,
   "metadata": {},
   "outputs": [
    {
     "name": "stdout",
     "output_type": "stream",
     "text": [
      "[224.99198436]\n",
      "[[392.95301322]]\n"
     ]
    }
   ],
   "source": [
    "# intercept\n",
    "print(regressor.intercept_)\n",
    "# slope\n",
    "print(regressor.coef_)"
   ]
  },
  {
   "cell_type": "code",
   "execution_count": 22,
   "metadata": {},
   "outputs": [],
   "source": [
    "y_pred = regressor.predict(X_test)"
   ]
  },
  {
   "cell_type": "code",
   "execution_count": 23,
   "metadata": {},
   "outputs": [
    {
     "data": {
      "text/html": [
       "<div>\n",
       "<style scoped>\n",
       "    .dataframe tbody tr th:only-of-type {\n",
       "        vertical-align: middle;\n",
       "    }\n",
       "\n",
       "    .dataframe tbody tr th {\n",
       "        vertical-align: top;\n",
       "    }\n",
       "\n",
       "    .dataframe thead th {\n",
       "        text-align: right;\n",
       "    }\n",
       "</style>\n",
       "<table border=\"1\" class=\"dataframe\">\n",
       "  <thead>\n",
       "    <tr style=\"text-align: right;\">\n",
       "      <th></th>\n",
       "      <th>Actual</th>\n",
       "      <th>Predicted</th>\n",
       "    </tr>\n",
       "  </thead>\n",
       "  <tbody>\n",
       "    <tr>\n",
       "      <td>0</td>\n",
       "      <td>888</td>\n",
       "      <td>752.098138</td>\n",
       "    </tr>\n",
       "    <tr>\n",
       "      <td>1</td>\n",
       "      <td>215</td>\n",
       "      <td>347.998973</td>\n",
       "    </tr>\n",
       "    <tr>\n",
       "      <td>2</td>\n",
       "      <td>290</td>\n",
       "      <td>378.163387</td>\n",
       "    </tr>\n",
       "    <tr>\n",
       "      <td>3</td>\n",
       "      <td>204</td>\n",
       "      <td>504.154039</td>\n",
       "    </tr>\n",
       "    <tr>\n",
       "      <td>4</td>\n",
       "      <td>1155</td>\n",
       "      <td>1292.214890</td>\n",
       "    </tr>\n",
       "    <tr>\n",
       "      <td>...</td>\n",
       "      <td>...</td>\n",
       "      <td>...</td>\n",
       "    </tr>\n",
       "    <tr>\n",
       "      <td>592150</td>\n",
       "      <td>622</td>\n",
       "      <td>618.968326</td>\n",
       "    </tr>\n",
       "    <tr>\n",
       "      <td>592151</td>\n",
       "      <td>1353</td>\n",
       "      <td>774.956630</td>\n",
       "    </tr>\n",
       "    <tr>\n",
       "      <td>592152</td>\n",
       "      <td>779</td>\n",
       "      <td>788.688217</td>\n",
       "    </tr>\n",
       "    <tr>\n",
       "      <td>592153</td>\n",
       "      <td>434</td>\n",
       "      <td>466.145852</td>\n",
       "    </tr>\n",
       "    <tr>\n",
       "      <td>592154</td>\n",
       "      <td>313</td>\n",
       "      <td>437.004211</td>\n",
       "    </tr>\n",
       "  </tbody>\n",
       "</table>\n",
       "<p>592155 rows × 2 columns</p>\n",
       "</div>"
      ],
      "text/plain": [
       "        Actual    Predicted\n",
       "0          888   752.098138\n",
       "1          215   347.998973\n",
       "2          290   378.163387\n",
       "3          204   504.154039\n",
       "4         1155  1292.214890\n",
       "...        ...          ...\n",
       "592150     622   618.968326\n",
       "592151    1353   774.956630\n",
       "592152     779   788.688217\n",
       "592153     434   466.145852\n",
       "592154     313   437.004211\n",
       "\n",
       "[592155 rows x 2 columns]"
      ]
     },
     "execution_count": 23,
     "metadata": {},
     "output_type": "execute_result"
    }
   ],
   "source": [
    "df_pred = pd.DataFrame({'Actual': y_test.flatten(), 'Predicted': y_pred.flatten()})\n",
    "df_pred"
   ]
  },
  {
   "cell_type": "code",
   "execution_count": 24,
   "metadata": {},
   "outputs": [
    {
     "data": {
      "image/png": "[encoded data removed]",
      "text/plain": [
       "<Figure size 1152x720 with 1 Axes>"
      ]
     },
     "metadata": {
      "needs_background": "light"
     },
     "output_type": "display_data"
    }
   ],
   "source": [
    "df1 = df_pred.head(25)\n",
    "df1.plot(kind = 'bar',figsize = (16,10))\n",
    "plt.grid(which = 'major', linestyle = '-', linewidth = '0.5', color = 'green')\n",
    "plt.grid(which = 'minor', linestyle = ':', linewidth = '0.5', color = 'black')\n",
    "plt.show()"
   ]
  },
  {
   "cell_type": "code",
   "execution_count": 25,
   "metadata": {},
   "outputs": [
    {
     "data": {
      "image/png": "[encoded data removed]",
      "text/plain": [
       "<Figure size 432x288 with 1 Axes>"
      ]
     },
     "metadata": {
      "needs_background": "light"
     },
     "output_type": "display_data"
    }
   ],
   "source": [
    "plt.scatter(X_test, y_test,  color = 'gray')\n",
    "plt.plot(X_test, y_pred, color = 'red', linewidth=2)\n",
    "plt.show()"
   ]
  },
  {
   "cell_type": "code",
   "execution_count": 26,
   "metadata": {},
   "outputs": [
    {
     "name": "stdout",
     "output_type": "stream",
     "text": [
      "179.27561068731876\n",
      "143482.10727096177\n",
      "378.790320983736\n",
      "0.457345610354674\n"
     ]
    }
   ],
   "source": [
    "# Mean Absolute Error\n",
    "print(metrics.mean_absolute_error(y_test, y_pred))  \n",
    "# Mean Squared Error\n",
    "print(metrics.mean_squared_error(y_test, y_pred))  \n",
    "# Root Mean Squared Error\n",
    "print(np.sqrt(metrics.mean_squared_error(y_test, y_pred)))\n",
    "# R^2\n",
    "print(r2_score(y_test, y_pred))"
   ]
  },
  {
   "cell_type": "markdown",
   "metadata": {},
   "source": [
    "## Multiple Linear Regression"
   ]
  },
  {
   "cell_type": "code",
   "execution_count": 27,
   "metadata": {},
   "outputs": [],
   "source": [
    "X2 = df_2017[['distance', 'Male', 'Subscriber', 'birthyear', 'Customer']]\n",
    "y2 = df_2017['tripduration']"
   ]
  },
  {
   "cell_type": "code",
   "execution_count": 28,
   "metadata": {},
   "outputs": [
    {
     "data": {
      "text/plain": [
       "<matplotlib.axes._subplots.AxesSubplot at 0x1c21f46cd0>"
      ]
     },
     "execution_count": 28,
     "metadata": {},
     "output_type": "execute_result"
    },
    {
     "data": {
      "image/png": "[encoded data removed]",
      "text/plain": [
       "<Figure size 1080x720 with 1 Axes>"
      ]
     },
     "metadata": {
      "needs_background": "light"
     },
     "output_type": "display_data"
    }
   ],
   "source": [
    "plt.figure(figsize = (15,10))\n",
    "plt.tight_layout()\n",
    "sns.distplot(df_2017['tripduration'])"
   ]
  },
  {
   "cell_type": "code",
   "execution_count": 29,
   "metadata": {},
   "outputs": [],
   "source": [
    "# Split data into training and test sets\n",
    "X_train2, X_test2, y_train2, y_test2 = train_test_split(X2, y2, test_size = 0.2, random_state=0)"
   ]
  },
  {
   "cell_type": "code",
   "execution_count": 30,
   "metadata": {},
   "outputs": [
    {
     "data": {
      "text/plain": [
       "LinearRegression(copy_X=True, fit_intercept=True, n_jobs=None, normalize=False)"
      ]
     },
     "execution_count": 30,
     "metadata": {},
     "output_type": "execute_result"
    }
   ],
   "source": [
    "regressor2 = LinearRegression()  \n",
    "regressor2.fit(X_train2, y_train2)"
   ]
  },
  {
   "cell_type": "code",
   "execution_count": 31,
   "metadata": {},
   "outputs": [],
   "source": [
    "y_pred2 = regressor2.predict(X_test2)"
   ]
  },
  {
   "cell_type": "code",
   "execution_count": 32,
   "metadata": {},
   "outputs": [
    {
     "data": {
      "text/html": [
       "<div>\n",
       "<style scoped>\n",
       "    .dataframe tbody tr th:only-of-type {\n",
       "        vertical-align: middle;\n",
       "    }\n",
       "\n",
       "    .dataframe tbody tr th {\n",
       "        vertical-align: top;\n",
       "    }\n",
       "\n",
       "    .dataframe thead th {\n",
       "        text-align: right;\n",
       "    }\n",
       "</style>\n",
       "<table border=\"1\" class=\"dataframe\">\n",
       "  <thead>\n",
       "    <tr style=\"text-align: right;\">\n",
       "      <th></th>\n",
       "      <th>Actual</th>\n",
       "      <th>Predicted</th>\n",
       "    </tr>\n",
       "  </thead>\n",
       "  <tbody>\n",
       "    <tr>\n",
       "      <td>1702299</td>\n",
       "      <td>888</td>\n",
       "      <td>731.111788</td>\n",
       "    </tr>\n",
       "    <tr>\n",
       "      <td>913760</td>\n",
       "      <td>215</td>\n",
       "      <td>363.024081</td>\n",
       "    </tr>\n",
       "    <tr>\n",
       "      <td>3219051</td>\n",
       "      <td>290</td>\n",
       "      <td>494.226622</td>\n",
       "    </tr>\n",
       "    <tr>\n",
       "      <td>1039212</td>\n",
       "      <td>204</td>\n",
       "      <td>469.979824</td>\n",
       "    </tr>\n",
       "    <tr>\n",
       "      <td>2084979</td>\n",
       "      <td>1155</td>\n",
       "      <td>1255.310438</td>\n",
       "    </tr>\n",
       "  </tbody>\n",
       "</table>\n",
       "</div>"
      ],
      "text/plain": [
       "         Actual    Predicted\n",
       "1702299     888   731.111788\n",
       "913760      215   363.024081\n",
       "3219051     290   494.226622\n",
       "1039212     204   469.979824\n",
       "2084979    1155  1255.310438"
      ]
     },
     "execution_count": 32,
     "metadata": {},
     "output_type": "execute_result"
    }
   ],
   "source": [
    "df_pred2 = pd.DataFrame({'Actual': y_test2, 'Predicted': y_pred2})\n",
    "df_pred2.head()"
   ]
  },
  {
   "cell_type": "code",
   "execution_count": 33,
   "metadata": {},
   "outputs": [
    {
     "data": {
      "image/png": "[encoded data removed]",
      "text/plain": [
       "<Figure size 1152x720 with 1 Axes>"
      ]
     },
     "metadata": {
      "needs_background": "light"
     },
     "output_type": "display_data"
    }
   ],
   "source": [
    "df2 = df_pred2.head(25)\n",
    "df2.plot(kind = 'bar',figsize = (16, 10))\n",
    "plt.grid(which = 'major', linestyle = '-', linewidth = '0.5', color = 'green')\n",
    "plt.grid(which = 'minor', linestyle = ':', linewidth = '0.5', color = 'black')\n",
    "plt.show()"
   ]
  },
  {
   "cell_type": "code",
   "execution_count": 34,
   "metadata": {},
   "outputs": [
    {
     "name": "stdout",
     "output_type": "stream",
     "text": [
      "176.9843190018488\n",
      "142199.89982309105\n",
      "377.09401987182326\n",
      "0.46219496414001393\n"
     ]
    }
   ],
   "source": [
    "# Mean Absolute Error\n",
    "print(metrics.mean_absolute_error(y_test2, y_pred2)) \n",
    "# Mean Squared Error\n",
    "print(metrics.mean_squared_error(y_test2, y_pred2))  \n",
    "# Root Mean Squared Error\n",
    "print(np.sqrt(metrics.mean_squared_error(y_test2, y_pred2)))\n",
    "# R^2\n",
    "print(r2_score(y_test2, y_pred2))"
   ]
  },
  {
   "cell_type": "markdown",
   "metadata": {},
   "source": [
    "## Multiple Linear Regression (more variables)"
   ]
  },
  {
   "cell_type": "code",
   "execution_count": 35,
   "metadata": {},
   "outputs": [],
   "source": [
    "X3 = df_2017[['distance', 'Male', 'birthyear', 'Subscriber', 'Customer', 'from_station_id']]\n",
    "y3 = df_2017['tripduration']\n",
    "X_train3, X_test3, y_train3, y_test3 = train_test_split(X3, y3, test_size = 0.2, random_state = 0)\n",
    "regressor3 = LinearRegression()  \n",
    "regressor3.fit(X_train3, y_train3)\n",
    "y_pred3 = regressor3.predict(X_test3)"
   ]
  },
  {
   "cell_type": "code",
   "execution_count": 36,
   "metadata": {},
   "outputs": [
    {
     "data": {
      "image/png": "[encoded data removed]",
      "text/plain": [
       "<Figure size 1152x720 with 1 Axes>"
      ]
     },
     "metadata": {
      "needs_background": "light"
     },
     "output_type": "display_data"
    }
   ],
   "source": [
    "df_pred3 = pd.DataFrame({'Actual': y_test3, 'Predicted': y_pred3})\n",
    "df_pred3.head()\n",
    "df3 = df_pred3.head(25)\n",
    "df3.plot(kind = 'bar',figsize = (16, 10))\n",
    "plt.grid(which = 'major', linestyle = '-', linewidth = '0.5', color = 'green')\n",
    "plt.grid(which = 'minor', linestyle = ':', linewidth = '0.5', color = 'black')\n",
    "plt.show()"
   ]
  },
  {
   "cell_type": "code",
   "execution_count": 37,
   "metadata": {},
   "outputs": [
    {
     "name": "stdout",
     "output_type": "stream",
     "text": [
      "176.87591089647734\n",
      "142193.44996676577\n",
      "377.08546772153096\n",
      "0.4622193577240925\n"
     ]
    }
   ],
   "source": [
    "# Mean Absolute Error\n",
    "print(metrics.mean_absolute_error(y_test3, y_pred3))  \n",
    "# Mean Squared Error\n",
    "print(metrics.mean_squared_error(y_test3, y_pred3))  \n",
    "# Root Mean Squared Error\n",
    "print(np.sqrt(metrics.mean_squared_error(y_test3, y_pred3)))\n",
    "# R^2\n",
    "print(r2_score(y_test3, y_pred3))"
   ]
  },
  {
   "cell_type": "code",
   "execution_count": 38,
   "metadata": {},
   "outputs": [],
   "source": [
    "# Clean data more\n",
    "# drop rides greater than 4 hours\n",
    "df_2017_b = df_2017[df_2017.tripduration < 14400]"
   ]
  },
  {
   "cell_type": "code",
   "execution_count": 39,
   "metadata": {},
   "outputs": [],
   "source": [
    "X4 = df_2017_b[['distance', 'Male', 'Subscriber', 'birthyear', 'Customer']]\n",
    "y4 = df_2017_b['tripduration']\n",
    "X_train4, X_test4, y_train4, y_test4 = train_test_split(X4, y4, test_size = 0.2, random_state = 0)\n",
    "regressor4 = LinearRegression()  \n",
    "regressor4.fit(X_train4, y_train4)\n",
    "y_pred4 = regressor4.predict(X_test4)\n"
   ]
  },
  {
   "cell_type": "code",
   "execution_count": 40,
   "metadata": {},
   "outputs": [],
   "source": [
    "# # Mean Absolute EError\n",
    "# print(metrics.mean_absolute_error(y_test, y_pred))  \n",
    "# # Mean Squared Error\n",
    "# print(metrics.mean_squared_error(y_test, y_pred))  \n",
    "# # Root Mean Squared Error\n",
    "# print(np.sqrt(metrics.mean_squared_error(y_test, y_pred)))\n",
    "# # R^2\n",
    "# print(r2_score(y_test, y_pred))"
   ]
  },
  {
   "cell_type": "code",
   "execution_count": 41,
   "metadata": {},
   "outputs": [
    {
     "name": "stdout",
     "output_type": "stream",
     "text": [
      "173.50785045601452\n",
      "0.5370370952188395\n"
     ]
    }
   ],
   "source": [
    "# Clean even more\n",
    "# drop rides greater 3 hours\n",
    "df_2017_c = df_2017[df_2017.tripduration < 10800]\n",
    "X5 = df_2017_c[['distance', 'Male', 'Subscriber', 'birthyear', 'Customer']]\n",
    "y5 = df_2017_c['tripduration']\n",
    "X_train5, X_test5, y_train5, y_test5 = train_test_split(X5, y5, test_size = 0.2, random_state = 0)\n",
    "regressor5 = LinearRegression()  \n",
    "regressor5.fit(X_train5, y_train5)\n",
    "y_pred5 = regressor5.predict(X_test5)\n",
    "print(metrics.mean_absolute_error(y_test5, y_pred5))  \n",
    "print(r2_score(y_test5, y_pred5))"
   ]
  },
  {
   "cell_type": "code",
   "execution_count": 42,
   "metadata": {},
   "outputs": [
    {
     "name": "stderr",
     "output_type": "stream",
     "text": [
      "/Users/Mackenzie.Bogiages@ibm.com/opt/anaconda3/lib/python3.7/site-packages/ipykernel_launcher.py:5: UserWarning: Boolean Series key will be reindexed to match DataFrame index.\n",
      "  \"\"\"\n"
     ]
    },
    {
     "name": "stdout",
     "output_type": "stream",
     "text": [
      "171.62421450116273\n",
      "0.57017459378753\n"
     ]
    }
   ],
   "source": [
    "# Clean even more\n",
    "# drop rides greater 2 hours\n",
    "df_2017_d = df_2017[df_2017.tripduration < 7200]\n",
    "# drop rides greater further than 10 miles\n",
    "df_2017_e = df_2017_d[df_2017.distance < 20]\n",
    "X6 = df_2017_e[['distance', 'Male', 'Subscriber', 'birthyear', 'Customer']]\n",
    "y6 = df_2017_e['tripduration']\n",
    "X_train6, X_test6, y_train6, y_test6 = train_test_split(X6, y6, test_size = 0.2, random_state = 0)\n",
    "regressor6 = LinearRegression()  \n",
    "regressor6.fit(X_train6, y_train6)\n",
    "y_pred6 = regressor6.predict(X_test6)\n",
    "print(metrics.mean_absolute_error(y_test6, y_pred6)) \n",
    "print(r2_score(y_test6, y_pred6))"
   ]
  },
  {
   "cell_type": "markdown",
   "metadata": {},
   "source": [
    "## Ridge"
   ]
  },
  {
   "cell_type": "code",
   "execution_count": 43,
   "metadata": {},
   "outputs": [
    {
     "name": "stdout",
     "output_type": "stream",
     "text": [
      "<class 'pandas.core.frame.DataFrame'>\n",
      "Int64Index: 2960771 entries, 0 to 3829000\n",
      "Data columns (total 9 columns):\n",
      "trip_id      float64\n",
      "bikeid       float64\n",
      "birthyear    float64\n",
      "from_lat     float64\n",
      "from_long    float64\n",
      "to_lat       float64\n",
      "to_long      float64\n",
      "distance     float64\n",
      "speed        float64\n",
      "dtypes: float64(9)\n",
      "memory usage: 305.9 MB\n"
     ]
    }
   ],
   "source": [
    "df_f = df_2017[['trip_id', 'bikeid', 'tripduration', 'birthyear', 'from_lat','from_long', 'to_lat', 'to_long', 'distance', 'speed']]\n",
    "y7 = df_f.tripduration\n",
    "X7 = df_f.drop(['tripduration'], axis = 1).astype(float)\n",
    "X7.info()"
   ]
  },
  {
   "cell_type": "code",
   "execution_count": 44,
   "metadata": {},
   "outputs": [
    {
     "data": {
      "text/plain": [
       "array([5.00000000e+09, 3.78231664e+09, 2.86118383e+09, 2.16438064e+09,\n",
       "       1.63727458e+09, 1.23853818e+09, 9.36908711e+08, 7.08737081e+08,\n",
       "       5.36133611e+08, 4.05565415e+08, 3.06795364e+08, 2.32079442e+08,\n",
       "       1.75559587e+08, 1.32804389e+08, 1.00461650e+08, 7.59955541e+07,\n",
       "       5.74878498e+07, 4.34874501e+07, 3.28966612e+07, 2.48851178e+07,\n",
       "       1.88246790e+07, 1.42401793e+07, 1.07721735e+07, 8.14875417e+06,\n",
       "       6.16423370e+06, 4.66301673e+06, 3.52740116e+06, 2.66834962e+06,\n",
       "       2.01850863e+06, 1.52692775e+06, 1.15506485e+06, 8.73764200e+05,\n",
       "       6.60970574e+05, 5.00000000e+05, 3.78231664e+05, 2.86118383e+05,\n",
       "       2.16438064e+05, 1.63727458e+05, 1.23853818e+05, 9.36908711e+04,\n",
       "       7.08737081e+04, 5.36133611e+04, 4.05565415e+04, 3.06795364e+04,\n",
       "       2.32079442e+04, 1.75559587e+04, 1.32804389e+04, 1.00461650e+04,\n",
       "       7.59955541e+03, 5.74878498e+03, 4.34874501e+03, 3.28966612e+03,\n",
       "       2.48851178e+03, 1.88246790e+03, 1.42401793e+03, 1.07721735e+03,\n",
       "       8.14875417e+02, 6.16423370e+02, 4.66301673e+02, 3.52740116e+02,\n",
       "       2.66834962e+02, 2.01850863e+02, 1.52692775e+02, 1.15506485e+02,\n",
       "       8.73764200e+01, 6.60970574e+01, 5.00000000e+01, 3.78231664e+01,\n",
       "       2.86118383e+01, 2.16438064e+01, 1.63727458e+01, 1.23853818e+01,\n",
       "       9.36908711e+00, 7.08737081e+00, 5.36133611e+00, 4.05565415e+00,\n",
       "       3.06795364e+00, 2.32079442e+00, 1.75559587e+00, 1.32804389e+00,\n",
       "       1.00461650e+00, 7.59955541e-01, 5.74878498e-01, 4.34874501e-01,\n",
       "       3.28966612e-01, 2.48851178e-01, 1.88246790e-01, 1.42401793e-01,\n",
       "       1.07721735e-01, 8.14875417e-02, 6.16423370e-02, 4.66301673e-02,\n",
       "       3.52740116e-02, 2.66834962e-02, 2.01850863e-02, 1.52692775e-02,\n",
       "       1.15506485e-02, 8.73764200e-03, 6.60970574e-03, 5.00000000e-03])"
      ]
     },
     "execution_count": 44,
     "metadata": {},
     "output_type": "execute_result"
    }
   ],
   "source": [
    "alphas = 10**np.linspace(10 ,-2, 100)*0.5\n",
    "alphas"
   ]
  },
  {
   "cell_type": "code",
   "execution_count": 45,
   "metadata": {},
   "outputs": [
    {
     "data": {
      "text/plain": [
       "(100, 9)"
      ]
     },
     "execution_count": 45,
     "metadata": {},
     "output_type": "execute_result"
    }
   ],
   "source": [
    "ridge = Ridge(normalize = True)\n",
    "coefs = []\n",
    "for a in alphas:\n",
    "    ridge.set_params(alpha = a)\n",
    "    ridge.fit(X7, y7)\n",
    "    coefs.append(ridge.coef_)\n",
    "np.shape(coefs)"
   ]
  },
  {
   "cell_type": "code",
   "execution_count": 46,
   "metadata": {},
   "outputs": [
    {
     "data": {
      "text/plain": [
       "Text(0, 0.5, 'weights')"
      ]
     },
     "execution_count": 46,
     "metadata": {},
     "output_type": "execute_result"
    },
    {
     "data": {
      "image/png": "[encoded data removed]",
      "text/plain": [
       "<Figure size 432x288 with 1 Axes>"
      ]
     },
     "metadata": {
      "needs_background": "light"
     },
     "output_type": "display_data"
    }
   ],
   "source": [
    "ax = plt.gca()\n",
    "ax.plot(alphas, coefs)\n",
    "ax.set_xscale('log')\n",
    "plt.axis('tight')\n",
    "plt.xlabel('alpha')\n",
    "plt.ylabel('weights')"
   ]
  },
  {
   "cell_type": "code",
   "execution_count": 47,
   "metadata": {},
   "outputs": [],
   "source": [
    "X_train7, X_test7 , y_train7, y_test7 = train_test_split(X, y, test_size = 0.5, random_state = 1)\n",
    "ridge7 = Ridge(alpha = 1, normalize = True)\n",
    "ridge7.fit(X_train7, y_train7)             \n",
    "pred7 = ridge7.predict(X_test7)           \n",
    "# print(pd.Series(ridge7.coef_, index = X7.columns)) \n",
    "# print(mean_squared_error(y_test7, pred7))     \n",
    "# R^2\n",
    "# Ridge.score(ridge7, X, y)"
   ]
  },
  {
   "cell_type": "code",
   "execution_count": 48,
   "metadata": {},
   "outputs": [
    {
     "data": {
      "text/plain": [
       "0.005"
      ]
     },
     "execution_count": 48,
     "metadata": {},
     "output_type": "execute_result"
    }
   ],
   "source": [
    "# find alpha that results in smallest cross validation\n",
    "ridgecv = RidgeCV(alphas = alphas, scoring = 'neg_mean_squared_error', normalize = True)\n",
    "ridgecv.fit(X_train7, y_train7)\n",
    "ridgecv.alpha_"
   ]
  },
  {
   "cell_type": "code",
   "execution_count": 49,
   "metadata": {},
   "outputs": [
    {
     "data": {
      "text/plain": [
       "0.6686093217995586"
      ]
     },
     "execution_count": 49,
     "metadata": {},
     "output_type": "execute_result"
    }
   ],
   "source": [
    "# rr with alpha that minimizes cross validation\n",
    "ridge8 = Ridge(alpha = ridgecv.alpha_, normalize = True)\n",
    "ridge8.fit(X_train7, y_train7)\n",
    "pred8 = ridge8.predict(X_test7)  \n",
    "# MSE\n",
    "mean_squared_error(y_test7, ridge8.predict(X_test7))\n",
    "ridge8.fit(X7, y7)\n",
    "pd.Series(ridge8.coef_, index = X7.columns)\n",
    "#R^2\n",
    "Ridge.score(ridge8, X7, y7)"
   ]
  },
  {
   "cell_type": "markdown",
   "metadata": {},
   "source": [
    "## Lasso"
   ]
  },
  {
   "cell_type": "code",
   "execution_count": 50,
   "metadata": {},
   "outputs": [
    {
     "data": {
      "text/plain": [
       "Text(0, 0.5, 'weights')"
      ]
     },
     "execution_count": 50,
     "metadata": {},
     "output_type": "execute_result"
    },
    {
     "data": {
      "image/png": "[encoded data removed]",
      "text/plain": [
       "<Figure size 432x288 with 1 Axes>"
      ]
     },
     "metadata": {
      "needs_background": "light"
     },
     "output_type": "display_data"
    }
   ],
   "source": [
    "lasso = Lasso(max_iter = 10000, normalize = True)\n",
    "coefs = []\n",
    "for a in alphas:\n",
    "    lasso.set_params(alpha = a)\n",
    "    lasso.fit(scale(X_train), y_train)\n",
    "    coefs.append(lasso.coef_)\n",
    "ax = plt.gca()\n",
    "ax.plot(alphas*2, coefs)\n",
    "ax.set_xscale('log')\n",
    "plt.axis('tight')\n",
    "plt.xlabel('alpha')\n",
    "plt.ylabel('weights')"
   ]
  },
  {
   "cell_type": "code",
   "execution_count": 51,
   "metadata": {},
   "outputs": [
    {
     "name": "stderr",
     "output_type": "stream",
     "text": [
      "/Users/Mackenzie.Bogiages@ibm.com/opt/anaconda3/lib/python3.7/site-packages/sklearn/linear_model/coordinate_descent.py:1100: DataConversionWarning: A column-vector y was passed when a 1d array was expected. Please change the shape of y to (n_samples, ), for example using ravel().\n",
      "  y = column_or_1d(y, warn=True)\n"
     ]
    },
    {
     "data": {
      "text/plain": [
       "143482.27501047813"
      ]
     },
     "execution_count": 51,
     "metadata": {},
     "output_type": "execute_result"
    }
   ],
   "source": [
    "# lasso 10 fold cross validation\n",
    "lassocv = LassoCV(alphas = None, cv = 10, max_iter = 100000, normalize = True)\n",
    "lassocv.fit(X_train, y_train)\n",
    "lasso.set_params(alpha = lassocv.alpha_)\n",
    "lasso.fit(X_train, y_train)\n",
    "mean_squared_error(y_test, lasso.predict(X_test)) \n",
    "# #R^2 \n",
    "# Lasso.score(lassocv, X, y)"
   ]
  },
  {
   "cell_type": "code",
   "execution_count": 52,
   "metadata": {},
   "outputs": [
    {
     "data": {
      "text/plain": [
       "0.45751604729402906"
      ]
     },
     "execution_count": 52,
     "metadata": {},
     "output_type": "execute_result"
    }
   ],
   "source": [
    "lasso = Lasso(max_iter = 10000, normalize = True)\n",
    "coefs = []\n",
    "for a in alphas:\n",
    "    lasso.set_params(alpha = a)\n",
    "    lasso.fit(scale(X_train2), y_train2)\n",
    "    coefs.append(lasso.coef_)\n",
    "# ax = plt.gca()\n",
    "# ax.plot(alphas*2, coefs)\n",
    "# ax.set_xscale('log')\n",
    "# plt.axis('tight')\n",
    "# plt.xlabel('alpha')\n",
    "# plt.ylabel('weights')\n",
    "# lasso 10 fold cross validation\n",
    "lassocv2 = LassoCV(alphas = None, cv = 10, max_iter = 100000, normalize = True)\n",
    "lassocv2.fit(X_train2, y_train2)\n",
    "lasso.set_params(alpha = lassocv2.alpha_)\n",
    "lasso.fit(X_train2, y_train2)\n",
    "mean_squared_error(y_test2, lasso.predict(X_test2)) \n",
    "Lasso.score(lassocv2, X2, y2)"
   ]
  },
  {
   "cell_type": "code",
   "execution_count": 53,
   "metadata": {},
   "outputs": [
    {
     "data": {
      "text/plain": [
       "0.4575400526724601"
      ]
     },
     "execution_count": 53,
     "metadata": {},
     "output_type": "execute_result"
    }
   ],
   "source": [
    "lasso = Lasso(max_iter = 10000, normalize = True)\n",
    "coefs = []\n",
    "for a in alphas:\n",
    "    lasso.set_params(alpha = a)\n",
    "    lasso.fit(scale(X_train3), y_train3)\n",
    "    coefs.append(lasso.coef_)\n",
    "# ax = plt.gca()\n",
    "# ax.plot(alphas*3, coefs)\n",
    "# ax.set_xscale('log')\n",
    "# plt.axis('tight')\n",
    "# plt.xlabel('alpha')\n",
    "# plt.ylabel('weights')\n",
    "# lasso 10 fold cross validation\n",
    "lassocv3 = LassoCV(alphas = None, cv = 10, max_iter = 100000, normalize = True)\n",
    "lassocv3.fit(X_train3, y_train3)\n",
    "lasso.set_params(alpha = lassocv3.alpha_)\n",
    "lasso.fit(X_train3, y_train3)\n",
    "mean_squared_error(y_test3, lasso.predict(X_test3)) \n",
    "Lasso.score(lassocv3, X3, y3)"
   ]
  },
  {
   "cell_type": "code",
   "execution_count": 54,
   "metadata": {},
   "outputs": [
    {
     "data": {
      "text/plain": [
       "0.5016271651689078"
      ]
     },
     "execution_count": 54,
     "metadata": {},
     "output_type": "execute_result"
    }
   ],
   "source": [
    "lasso = Lasso(max_iter = 10000, normalize = True)\n",
    "coefs = []\n",
    "for a in alphas:\n",
    "    lasso.set_params(alpha = a)\n",
    "    lasso.fit(scale(X_train4), y_train4)\n",
    "    coefs.append(lasso.coef_)\n",
    "# ax = plt.gca()\n",
    "# ax.plot(alphas*4, coefs)\n",
    "# ax.set_xscale('log')\n",
    "# plt.axis('tight')\n",
    "# plt.xlabel('alpha')\n",
    "# plt.ylabel('weights')\n",
    "# lasso 10 fold cross validation\n",
    "lassocv4 = LassoCV(alphas = None, cv = 10, max_iter = 100000, normalize = True)\n",
    "lassocv4.fit(X_train4, y_train4)\n",
    "lasso.set_params(alpha = lassocv4.alpha_)\n",
    "lasso.fit(X_train4, y_train4)\n",
    "mean_squared_error(y_test4, lasso.predict(X_test4)) \n",
    "Lasso.score(lassocv4, X4, y4)"
   ]
  },
  {
   "cell_type": "code",
   "execution_count": 55,
   "metadata": {},
   "outputs": [
    {
     "data": {
      "text/plain": [
       "0.5316741090076817"
      ]
     },
     "execution_count": 55,
     "metadata": {},
     "output_type": "execute_result"
    }
   ],
   "source": [
    "lasso = Lasso(max_iter = 10000, normalize = True)\n",
    "coefs = []\n",
    "for a in alphas:\n",
    "    lasso.set_params(alpha = a)\n",
    "    lasso.fit(scale(X_train5), y_train5)\n",
    "    coefs.append(lasso.coef_)\n",
    "# ax = plt.gca()\n",
    "# ax.plot(alphas*5, coefs)\n",
    "# ax.set_xscale('log')\n",
    "# plt.axis('tight')\n",
    "# plt.xlabel('alpha')\n",
    "# plt.ylabel('weights')\n",
    "# lasso 10 fold cross validation\n",
    "lassocv5 = LassoCV(alphas = None, cv = 10, max_iter = 100000, normalize = True)\n",
    "lassocv5.fit(X_train5, y_train5)\n",
    "lasso.set_params(alpha = lassocv5.alpha_)\n",
    "lasso.fit(X_train5, y_train5)\n",
    "mean_squared_error(y_test5, lasso.predict(X_test5)) \n",
    "Lasso.score(lassocv5, X5, y5)"
   ]
  },
  {
   "cell_type": "code",
   "execution_count": 56,
   "metadata": {},
   "outputs": [
    {
     "data": {
      "text/plain": [
       "0.5674277161717671"
      ]
     },
     "execution_count": 56,
     "metadata": {},
     "output_type": "execute_result"
    }
   ],
   "source": [
    "lasso = Lasso(max_iter = 10000, normalize = True)\n",
    "coefs = []\n",
    "for a in alphas:\n",
    "    lasso.set_params(alpha = a)\n",
    "    lasso.fit(scale(X_train6), y_train6)\n",
    "    coefs.append(lasso.coef_)\n",
    "# ax = plt.gca()\n",
    "# ax.plot(alphas*6, coefs)\n",
    "# ax.set_xscale('log')\n",
    "# plt.axis('tight')\n",
    "# plt.xlabel('alpha')\n",
    "# plt.ylabel('weights')\n",
    "# lasso 10 fold cross validation\n",
    "lassocv6 = LassoCV(alphas = None, cv = 10, max_iter = 100000, normalize = True)\n",
    "lassocv6.fit(X_train6, y_train6)\n",
    "lasso.set_params(alpha = lassocv6.alpha_)\n",
    "lasso.fit(X_train6, y_train6)\n",
    "mean_squared_error(y_test6, lasso.predict(X_test6)) \n",
    "Lasso.score(lassocv6, X6, y6)"
   ]
  },
  {
   "cell_type": "code",
   "execution_count": 57,
   "metadata": {},
   "outputs": [],
   "source": [
    "# lasso = Lasso(max_iter = 10000, normalize = True)\n",
    "# coefs = []\n",
    "# for a in alphas:\n",
    "#     lasso.set_params(alpha = a)\n",
    "#     lasso.fit(scale(X_train7), y_train7)\n",
    "#     coefs.append(lasso.coef_)\n",
    "# # ax = plt.gca()\n",
    "# # ax.plot(alphas*7, coefs)\n",
    "# # ax.set_xscale('log')\n",
    "# # plt.axis('tight')\n",
    "# # plt.xlabel('alpha')\n",
    "# # plt.ylabel('weights')\n",
    "# # lasso 10 fold cross validation\n",
    "# lassocv7 = LassoCV(alphas = None, cv = 10, max_iter = 100000, normalize = True)\n",
    "# lassocv7.fit(X_train7, y_train7)\n",
    "# lasso.set_params(alpha = lassocv7.alpha_)\n",
    "# lasso.fit(X_train7, y_train7)\n",
    "# mean_squared_error(y_test7, lasso.predict(X_test7)) \n",
    "# Lasso.score(lassocv7, X7, y7)"
   ]
  },
  {
   "cell_type": "markdown",
   "metadata": {},
   "source": [
    "## Best Model"
   ]
  },
  {
   "cell_type": "code",
   "execution_count": 58,
   "metadata": {},
   "outputs": [
    {
     "name": "stdout",
     "output_type": "stream",
     "text": [
      "<class 'pandas.core.frame.DataFrame'>\n",
      "Int64Index: 2959547 entries, 0 to 3829000\n",
      "Data columns (total 9 columns):\n",
      "trip_id      float64\n",
      "bikeid       float64\n",
      "birthyear    float64\n",
      "from_lat     float64\n",
      "from_long    float64\n",
      "to_lat       float64\n",
      "to_long      float64\n",
      "distance     float64\n",
      "speed        float64\n",
      "dtypes: float64(9)\n",
      "memory usage: 225.8 MB\n"
     ]
    }
   ],
   "source": [
    "# df_2017 = df_2017[df_2017.tripduration < 10800]\n",
    "# df_2017 = df_2017[df_2017.distance < 20]\n",
    "df = df_2017_e[['trip_id', 'bikeid', 'tripduration', 'birthyear', 'from_lat','from_long', 'to_lat', 'to_long', 'distance', 'speed']]\n",
    "y9 = df.tripduration\n",
    "X9 = df.drop(['tripduration'], axis = 1).astype(float)\n",
    "X9.info()"
   ]
  },
  {
   "cell_type": "code",
   "execution_count": 59,
   "metadata": {},
   "outputs": [
    {
     "data": {
      "text/plain": [
       "Text(0, 0.5, 'weights')"
      ]
     },
     "execution_count": 59,
     "metadata": {},
     "output_type": "execute_result"
    },
    {
     "data": {
      "image/png": "[encoded data removed]",
      "text/plain": [
       "<Figure size 432x288 with 1 Axes>"
      ]
     },
     "metadata": {
      "needs_background": "light"
     },
     "output_type": "display_data"
    }
   ],
   "source": [
    "X_train9, X_test9 , y_train9, y_test9 = train_test_split(X9, y9, test_size = 0.2, random_state = 1)\n",
    "lasso = Lasso(max_iter = 10000, normalize = True)\n",
    "coefs = []\n",
    "for a in alphas:\n",
    "    lasso.set_params(alpha = a)\n",
    "    lasso.fit(scale(X_train9), y_train9)\n",
    "    coefs.append(lasso.coef_)\n",
    "ax = plt.gca()\n",
    "ax.plot(alphas*2, coefs)\n",
    "ax.set_xscale('log')\n",
    "plt.axis('tight')\n",
    "plt.xlabel('alpha')\n",
    "plt.ylabel('weights')"
   ]
  },
  {
   "cell_type": "code",
   "execution_count": 60,
   "metadata": {},
   "outputs": [
    {
     "name": "stdout",
     "output_type": "stream",
     "text": [
      "42901.90389858489\n",
      "44036.39488668962\n",
      "207.12774777558147\n",
      "209.84850460913373\n"
     ]
    }
   ],
   "source": [
    "# lasso 10 fold cross validation\n",
    "lassocv9 = LassoCV(alphas = None, cv = 10, max_iter = 100000, normalize = True)\n",
    "lassocv9.fit(X_train9, y_train9)\n",
    "lasso.set_params(alpha = lassocv.alpha_)\n",
    "lasso.fit(X_train9, y_train9)\n",
    "print(mean_squared_error(y_train9, lasso.predict(X_train9)))\n",
    "print(mean_squared_error(y_test9, lasso.predict(X_test9)))\n",
    "print(mean_squared_error(y_train9, lasso.predict(X_train9))**.5)\n",
    "print(mean_squared_error(y_test9, lasso.predict(X_test9))**.5)"
   ]
  },
  {
   "cell_type": "code",
   "execution_count": 61,
   "metadata": {},
   "outputs": [
    {
     "data": {
      "text/plain": [
       "0.7992729770818422"
      ]
     },
     "execution_count": 61,
     "metadata": {},
     "output_type": "execute_result"
    }
   ],
   "source": [
    "#R^2 \n",
    "Lasso.score(lassocv9, X9, y9)"
   ]
  }
 ],
 "metadata": {
  "kernelspec": {
   "display_name": "Python 3",
   "language": "python",
   "name": "python3"
  },
  "language_info": {
   "codemirror_mode": {
    "name": "ipython",
    "version": 3
   },
   "file_extension": ".py",
   "mimetype": "text/x-python",
   "name": "python",
   "nbconvert_exporter": "python",
   "pygments_lexer": "ipython3",
   "version": "3.7.4"
  }
 },
 "nbformat": 4,
 "nbformat_minor": 2
}
